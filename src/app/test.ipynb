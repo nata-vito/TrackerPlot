{
 "cells": [
  {
   "cell_type": "code",
   "execution_count": null,
   "metadata": {},
   "outputs": [],
   "source": [
    "def findBestParams():\n",
    "    neighbors = NearestNeighbors(n_neighbors=20)\n",
    "    neighbors_fit = neighbors.fit(dataset)\n",
    "    distances, indices = neighbors_fit.kneighbors(dataset)\n",
    "    distances = np.sort(distances, axis=0)\n",
    "    distances = distances[:,1]\n",
    "    plt.plot(distances)\n",
    "    plt.show()\n",
    "    \n",
    "if __name__ == '__main__':\n",
    "    findBestParams()"
   ]
  }
 ],
 "metadata": {
  "language_info": {
   "name": "python"
  }
 },
 "nbformat": 4,
 "nbformat_minor": 2
}
